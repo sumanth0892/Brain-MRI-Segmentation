{
 "cells": [
  {
   "cell_type": "markdown",
   "id": "d5dba18f",
   "metadata": {},
   "source": [
    "### Explore the Brain MRI dataset taken from The Cancer Imaging Archive\n",
    "- #### Brain MRI images with the FLAIR abnormality segmentation masks\n",
    "- #### The 110 patients from the Cancer Genome Atlas lower-grade glioma collection with Fluid-Attenuated Inversion Recovery sequence and genomic cluster.\n",
    "- #### Tumour Genomic clusters and patient data is given in the data.csv file\n",
    "- #### The dataset demands a 3D Convolution operation since the images are given of various axes"
   ]
  },
  {
   "cell_type": "code",
   "execution_count": null,
   "id": "a5aca6e6",
   "metadata": {},
   "outputs": [],
   "source": [
    "# Preliminary imports\n",
    "import os\n",
    "import cv2\n",
    "import numpy as np\n",
    "from PIL import Image\n",
    "import matplotlib.pyplot as plt\n",
    "import tifffile as tiff\n",
    "import time\n",
    "%matplotlib inline"
   ]
  },
  {
   "cell_type": "markdown",
   "id": "36fe6c30",
   "metadata": {},
   "source": [
    "#### The number of images are different for each patient. Hence we need to proceed carefully\n",
    "- ##### Look at the number of images and masks in each directory and then prepare the dataset"
   ]
  },
  {
   "cell_type": "code",
   "execution_count": null,
   "id": "6930c6f5",
   "metadata": {},
   "outputs": [],
   "source": [
    "dataset_path = '/Volumes/Elements/datasets/Brain_MRI_Dataset'\n",
    "patients_list = os.listdir(dataset_path)\n",
    "print(f\"The current working directory is {dataset_path}\")\n",
    "patients_list = [f_name for f_name in patients_list if f_name[0] != '.']\n",
    "print(f\"There are {len(patients_list)} patients' MRI in this dataset\")\n",
    "patients_data_dict = dict()\n",
    "for patient in patients_list:\n",
    "    patients_data_dict[patient] = dict(images = set(), masks = set())\n",
    "patients_data_dict"
   ]
  },
  {
   "cell_type": "code",
   "execution_count": null,
   "id": "8bddf2fa",
   "metadata": {},
   "outputs": [],
   "source": [
    "images_and_masks_number = dict()\n",
    "for patient in patients_list:\n",
    "    print(patient)\n",
    "    all_files = os.listdir(os.path.join(dataset_path, patient))\n",
    "    all_files = [file for file in all_files if file[0] != '.']\n",
    "    print(len(all_files)//2)\n",
    "    images_and_masks_number[patient] = len(all_files)//2\n",
    "    print(\"\\n\")"
   ]
  },
  {
   "cell_type": "code",
   "execution_count": null,
   "id": "15b6e62c",
   "metadata": {},
   "outputs": [],
   "source": [
    "## Explore a random sample\n",
    "images_and_masks_path = os.path.join(dataset_path, patients_list[0])\n",
    "images_and_masks = []\n",
    "for f_name in os.listdir(images_and_masks_path):\n",
    "    if f_name[0] != '.':\n",
    "        images_and_masks.append(f_name)\n",
    "f_name = images_and_masks[5]\n",
    "image_path = os.path.join(images_and_masks_path, f_name)\n",
    "image = Image.open(image_path)\n",
    "image = np.array(image)\n",
    "print(f\"The image is of shape {image.shape}\")\n",
    "\n",
    "## Look at the mask\n",
    "f_name_mask = f_name[:-4] + '_mask' + '.tif'\n",
    "mask_path = os.path.join(images_and_masks_path, f_name_mask)\n",
    "mask = np.array(Image.open(mask_path))\n",
    "print(f\"The corresponding mask is of shape {mask.shape}\")"
   ]
  },
  {
   "cell_type": "code",
   "execution_count": null,
   "id": "af8d601e",
   "metadata": {},
   "outputs": [],
   "source": [
    "for mask in masks:\n",
    "    mask_path = os.path.join(images_and_masks_path, mask)\n",
    "    mask = tiff.imread(mask_path)\n",
    "    if mask is None:\n",
    "        continue\n",
    "    # Display\n",
    "    plt.imshow(mask, cmap = 'gray')\n",
    "    plt.title('Segmentation mask')\n",
    "    plt.axis('off')\n",
    "    plt.show()\n",
    "    time.sleep(10)"
   ]
  },
  {
   "cell_type": "code",
   "execution_count": null,
   "id": "5bb5a387",
   "metadata": {},
   "outputs": [],
   "source": [
    "samp_image = np.array(image)\n",
    "samp_mask = np.array(mask)"
   ]
  },
  {
   "cell_type": "code",
   "execution_count": null,
   "id": "47747cbf",
   "metadata": {},
   "outputs": [],
   "source": [
    "# Display the image and mask\n",
    "fig, ax = plt.subplots(1, 2, figsize=(12, 6))\n",
    "ax[0].imshow(samp_image)\n",
    "ax[0].set_title('Image')\n",
    "ax[1].imshow(samp_mask, cmap='gray')\n",
    "ax[1].set_title('Mask')\n",
    "plt.show()"
   ]
  },
  {
   "cell_type": "code",
   "execution_count": null,
   "id": "06872a58",
   "metadata": {},
   "outputs": [],
   "source": []
  }
 ],
 "metadata": {
  "kernelspec": {
   "display_name": "Python 3.10 kernel",
   "language": "python",
   "name": "python310_venv"
  },
  "language_info": {
   "codemirror_mode": {
    "name": "ipython",
    "version": 3
   },
   "file_extension": ".py",
   "mimetype": "text/x-python",
   "name": "python",
   "nbconvert_exporter": "python",
   "pygments_lexer": "ipython3",
   "version": "3.10.14"
  }
 },
 "nbformat": 4,
 "nbformat_minor": 5
}
