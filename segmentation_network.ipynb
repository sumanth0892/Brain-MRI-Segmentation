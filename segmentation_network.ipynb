{
 "cells": [
  {
   "cell_type": "markdown",
   "id": "695340d9",
   "metadata": {},
   "source": [
    "## U-Net:\n",
    "- ### Consider a U-Net segmentation network with the three paths\n",
    "- ### If we want to use this on an MRI dataset, then it's a 3D convolutional network"
   ]
  },
  {
   "cell_type": "code",
   "execution_count": null,
   "id": "c9f403cd",
   "metadata": {},
   "outputs": [],
   "source": [
    "import os\n",
    "import cv2\n",
    "import tqdm\n",
    "import torch\n",
    "import torch.nn as nn\n",
    "import torch.nn.functional as F\n",
    "import matplotlib.pyplot as plt\n",
    "from torchsummary import summary"
   ]
  },
  {
   "cell_type": "markdown",
   "id": "8503b75f",
   "metadata": {},
   "source": [
    "### Contracting Path\n",
    "- #### The first is a contracting path of the network"
   ]
  },
  {
   "cell_type": "code",
   "execution_count": null,
   "id": "aaa0bb9a",
   "metadata": {
    "scrolled": true
   },
   "outputs": [],
   "source": [
    "class ContractingPath(nn.Module):\n",
    "    def __init__(self, n_channels):\n",
    "        super().__init__()\n",
    "        self.conv1 = nn.Conv2d(n_channels, 64, kernel_size=3)\n",
    "        self.conv2 = nn.Conv2d(64, 64, kernel_size=3)\n",
    "        self.maxpool = nn.MaxPool2d(2,2)\n",
    "        self.conv3 = nn.Conv2d(64, 128, kernel_size=3)\n",
    "        self.conv4 = nn.Conv2d(128, 128, kernel_size=3)\n",
    "        self.conv5 = nn.Conv2d(128, 256, kernel_size=3)\n",
    "        self.conv6 = nn.Conv2d(256, 256, kernel_size=3)\n",
    "        self.conv7 = nn.Conv2d(256, 512, kernel_size=3)\n",
    "        self.conv8 = nn.Conv2d(512, 512, kernel_size=3)\n",
    "    \n",
    "    def forward(self, x):\n",
    "        out = self.conv1(x)\n",
    "        out_1 = self.conv2(out)\n",
    "        out = self.maxpool(out_1)\n",
    "        out = self.conv3(out)\n",
    "        out_2 = self.conv4(out)\n",
    "        out = self.maxpool(out_2)\n",
    "        out = self.conv5(out)\n",
    "        out_3 = self.conv6(out)\n",
    "        out = self.maxpool(out_3)\n",
    "        out = self.conv7(out)\n",
    "        out_4 = self.conv8(out)\n",
    "        return [out_1, out_2, out_3, out_4]\n",
    "model = ContractingPath(3)\n",
    "summary(model, input_size = (3, 256, 256,))"
   ]
  },
  {
   "cell_type": "markdown",
   "id": "738ffc7d",
   "metadata": {},
   "source": [
    "### Bridge\n",
    "- #### The Bridge takes the input from the contracting path and connects it to the expanding path"
   ]
  },
  {
   "cell_type": "code",
   "execution_count": null,
   "id": "bab867a4",
   "metadata": {},
   "outputs": [],
   "source": [
    "class Bridge(nn.Module):\n",
    "    def __init__(self, n_channels):\n",
    "        super().__init__()\n",
    "        self.maxpool = nn.MaxPool2d(2, 2)\n",
    "        self.conv1 = nn.Conv2d(n_channels, 1024, kernel_size=3)\n",
    "        self.conv2 = nn.Conv2d(1024, 512, kernel_size=3)\n",
    "        self.UpConv1 = nn.ConvTranspose2d(512, 512, kernel_size = 4, stride = 2, padding = 1)\n",
    "    \n",
    "    def forward(self, x):\n",
    "        out1 = self.maxpool(x)\n",
    "        out2 = self.conv1(out1)\n",
    "        out3 = self.conv2(out2)\n",
    "        out = self.UpConv1(out3)\n",
    "        return out\n",
    "bridge = Bridge(512)\n",
    "summary(bridge, (512, 64, 64))"
   ]
  },
  {
   "cell_type": "markdown",
   "id": "66331f50",
   "metadata": {},
   "source": [
    "### Putting everything together\n",
    "- #### Using the two modules above, we can put the model together\n",
    "- #### The expanding path and the Bridge are added together here to give the final map"
   ]
  },
  {
   "cell_type": "code",
   "execution_count": null,
   "id": "c8694db1",
   "metadata": {},
   "outputs": [],
   "source": [
    "class U_Net(nn.Module):\n",
    "    def __init__(self, in_channels):\n",
    "        super().__init__()\n",
    "        self.contracting_path = ContractingPath(in_channels)\n",
    "        self.bridge = Bridge(512)\n",
    "        self.conv1 = nn.Conv2d(1024, 512, kernel_size = 3)\n",
    "        self.conv2 = nn.Conv2d(512, 256, kernel_size = 3)\n",
    "        self.UpConv1 = nn.ConvTranspose2d(256, 256, kernel_size = 4, stride = 2, padding = 1)\n",
    "        self.conv3 = nn.Conv2d(512, 256, kernel_size = 3)\n",
    "        self.conv4 = nn.Conv2d(256, 256, kernel_size = 3)\n",
    "        self.UpConv2 = nn.ConvTranspose2d(256, 128, kernel_size = 4, stride = 2, padding = 1)\n",
    "        self.conv5 = nn.Conv2d(256, 128, kernel_size = 3)\n",
    "        self.conv6 = nn.Conv2d(128, 64, kernel_size = 3)\n",
    "        self.UpConv3 = nn.ConvTranspose2d(64, 64, kernel_size = 4, stride = 2, padding = 1)\n",
    "        self.conv_f1 = nn.Conv2d(128, 64, kernel_size = 3)\n",
    "        self.conv_f2 = nn.Conv2d(64, 64, kernel_size = 3)\n",
    "        self.conv_final = nn.Conv2d(64, 1, kernel_size = 1)\n",
    "        #self.apply(self.init_weights_)\n",
    "    \n",
    "    def init_weights_(self, module):\n",
    "        if isinstance(module, nn.Conv2d):\n",
    "            torch.nn.init.normal_(module)\n",
    "    \n",
    "    def forward(self, x):\n",
    "        out_c1, out_c2, out_c3, out_c4 = self.contracting_path(x)\n",
    "        out_b = self.bridge(out_c4)\n",
    "        height, width = out_b.shape[2:]\n",
    "        out_c4 = out_c4[..., :height, :width]\n",
    "        out_4 = torch.cat([out_c4, out_b], dim = 1) # Shape (1, 1024, 56, 56)\n",
    "        out_4 = self.conv1(out_4) # Shape (1, 512, 54, 54)\n",
    "        out_4 = self.conv2(out_4) # Shape (1, 256, 52, 52)\n",
    "        out_3 = self.UpConv1(out_4) # Shape (1, 256, 104, 104)\n",
    "        height, width = out_3.shape[2:] # (104, 104)\n",
    "        out_c3 = out_c3[..., :height, :width] # Shape (1, 256, 104, 104)\n",
    "        out_3 = torch.cat([out_c3, out_3], dim = 1) # Shape (1, 512, 104, 104)\n",
    "        out_3 = self.conv3(out_3) # Shape (1, 256, 102, 102)\n",
    "        out_3 = self.conv4(out_3) # Shape (1, 256, 100, 100)\n",
    "        out_2 = self.UpConv2(out_3) # Shape (1, 128, 200, 200)\n",
    "        height, width = out_2.shape[2:] # (200, 200)\n",
    "        out_c2 = out_c2[..., :height, :width] # Shape (1, 128, 200, 200)\n",
    "        out_2 = torch.cat([out_c2, out_2], dim = 1) # Shape (1, 256, 200, 200)\n",
    "        out_2 = self.conv5(out_2) # Shape (1, 128, 198, 198)\n",
    "        out_1 = self.conv6(out_2) # Shape (1, 64, 196, 196)\n",
    "        out_1 = self.UpConv3(out_1) # Shape (1, 64, 392, 392)\n",
    "        height, width = out_1.shape[2:] # (392, 392)\n",
    "        out_c1 = out_c1[..., :height, :width] # Shape (1, 64, 392, 392)\n",
    "        out = torch.cat([out_c1, out_1], dim = 1) # Shape (1, 128, 392, 392)\n",
    "        out = self.conv_f1(out) # Shape (1, 64, 390, 390)\n",
    "        out = self.conv_f2(out) # Shape (1, 64, 388, 388)\n",
    "        final_output = self.conv_final(out) # Shape (1, 2, 388, 388)\n",
    "        return final_output\n",
    "u_net = U_Net(3)\n",
    "summary(u_net, (3, 256, 256))"
   ]
  },
  {
   "cell_type": "code",
   "execution_count": null,
   "id": "07b4ddd5",
   "metadata": {},
   "outputs": [],
   "source": [
    "samp_in = torch.randint(0, 10, (1, 3, 256, 256), dtype = torch.float32)\n",
    "sample_out = u_net(samp_in)\n",
    "print(sample_out.shape)\n",
    "assert sample_out.shape == torch.Size([1, 1, 388, 388]) "
   ]
  },
  {
   "cell_type": "markdown",
   "id": "11773c61",
   "metadata": {},
   "source": [
    "### Training Loop\n",
    "- #### Get batches of data from the datasets and obtain the output masks\n",
    "- #### Apply Softmax to get the logits at the class dimension for the output map"
   ]
  },
  {
   "cell_type": "code",
   "execution_count": null,
   "id": "422e1de3",
   "metadata": {},
   "outputs": [],
   "source": [
    "training_data_dict = dict(images = [], masks = [])\n",
    "testing_data_dict = dict(images = [], masks = [])\n",
    "validation_data_dict = dict(images = [], masks = [])\n",
    "# A dataset with lists of images and masks\n",
    "data_dict = dict(train = training_data_dict, valid = validation_data_dict,\n",
    "                test = testing_data_dict)\n",
    "def get_images_masks(split, batch_size):\n",
    "    assert split in ['train', 'test', 'valid']\n",
    "    dataset_dict = data_dict[split]\n",
    "    idx = torch.randint(0, len(dataset_dict['images']), (batch_size,))\n",
    "    images = torch.stack([dataset_dict['images'][i]for i in idx], dim = 0)\n",
    "    masks = torch.stack([dataset_dict['masks'][i]for i in idx], dim = 0)\n",
    "    return images, masks"
   ]
  },
  {
   "cell_type": "code",
   "execution_count": null,
   "id": "8118b96c",
   "metadata": {},
   "outputs": [],
   "source": [
    "n_epochs, steps, losses, batch_size = 100, [], [], 64\n",
    "optimizer = torch.optim.AdamW(u_net.parameters(), lr = 0.0075)\n",
    "for step in tqdm(range(n_epochs)):\n",
    "    images, ground_truth_masks = get_images_masks('train', batch_size)\n",
    "    ground_truth_masks = ground_truth_masks.unsqueeze(1)\n",
    "    # Forward pass\n",
    "    predicted_masks = u_net(images)\n",
    "    optimizer.zero_grad(set_to_none = True)\n",
    "    loss = F.binary_cross_entropy(predicted_masks, ground_truth_masks)\n",
    "    losses.append(loss.item())\n",
    "    steps.append(step)\n",
    "    \n",
    "    # Backpropagation\n",
    "    loss.backward()\n",
    "    \n",
    "    # Gradient update\n",
    "    optimizer.step()\n",
    "plt.plot(steps, losses)"
   ]
  }
 ],
 "metadata": {
  "kernelspec": {
   "display_name": "Python 3.10 kernel",
   "language": "python",
   "name": "python310_venv"
  },
  "language_info": {
   "codemirror_mode": {
    "name": "ipython",
    "version": 3
   },
   "file_extension": ".py",
   "mimetype": "text/x-python",
   "name": "python",
   "nbconvert_exporter": "python",
   "pygments_lexer": "ipython3",
   "version": "3.10.14"
  }
 },
 "nbformat": 4,
 "nbformat_minor": 5
}
